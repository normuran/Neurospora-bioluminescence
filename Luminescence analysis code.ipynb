{
 "cells": [
  {
   "cell_type": "code",
   "execution_count": null,
   "metadata": {},
   "outputs": [],
   "source": [
    "import imageio.v2 as imageio\n",
    "import skimage as ski\n",
    "import matplotlib.pyplot as plt\n",
    "import numpy as np\n",
    "import pandas as pd\n",
    "from scipy import signal\n"
   ]
  },
  {
   "cell_type": "code",
   "execution_count": null,
   "metadata": {},
   "outputs": [],
   "source": [
    "#load SPE file\n",
    "multiimage = ski.io.MultiImage('20240731_CCD1.SPE') #Load SPE file\n",
    "frames_number = len(multiimage[0])\n",
    "print(frames_number)"
   ]
  },
  {
   "cell_type": "code",
   "execution_count": null,
   "metadata": {},
   "outputs": [],
   "source": [
    "frames_dfs= []\n",
    "for i in range(frames_number):\n",
    "    dataframe = pd.DataFrame(multiimage[0][i])\n",
    "    frames_dfs.append(dataframe)\n",
    "print(len(frames_dfs))"
   ]
  },
  {
   "cell_type": "code",
   "execution_count": null,
   "metadata": {},
   "outputs": [],
   "source": [
    "vertical = [] # this array is for absolulte total sum of intensities BUT along the .....\n",
    "#basically, this means we are summing up columns together from one frame, then we go the next frame and sum up the columns\n",
    "#and then add these to the previous frame's sum of columns. \n",
    "\n",
    "all_frames_sum = np.zeros(1023) #initialize the array for the columns sum we are about to create\n",
    "for i in range(len(frames_dfs)): #for every frame in the SPE file\n",
    "    lum_df = frames_dfs[i] #grab one frame of the SPE file\n",
    "    one_frame_sum = []   #a transit variable for the sum of columns of one frame\n",
    "    for j in range(1023): #number of rows\n",
    "        array_ = lum_df.iloc[j, :] #grab a single row j\n",
    "        horizontal_sum = np.sum(array_) #sum up the intensities in that row\n",
    "        one_frame_sum.append(horizontal_sum) #append the sum of intensities in that row to one_frame_sum - first element of one_frame_sum is the sum of \n",
    "        #intensities in the first row\n",
    "        \n",
    "    all_frames_sum = np.add(all_frames_sum, one_frame_sum) #after the first frame sum of columns is calculated, add it to the all_frames_sum array, which will \n",
    "    #accumulate the intensity values along the vertical from all the frames, so that we can denote the boundaries between the race tubes better. "
   ]
  },
  {
   "cell_type": "code",
   "execution_count": null,
   "metadata": {},
   "outputs": [],
   "source": [
    "troughs = []\n",
    "peaks, properties = signal.find_peaks(all_frames_sum, distance = 30) #find peaks of luminescence along the vertical\n",
    "troughs, props = signal.find_peaks(all_frames_sum*(-1), distance = 30) #find troughs of luminescence along the vertical - this will determine the indices of bounds between race tubes\n",
    "#print(peaks)\n",
    "print(troughs) #print troughs, since the boundaries between tubes are places where luminescence is lowest\n",
    "peak_lum = all_frames_sum[peaks]\n",
    "troughs_lum = all_frames_sum[troughs] #get the luminescence intensity values on the trough coordinates\n",
    "plt.figure()\n",
    "plt.plot(all_frames_sum) #plot how luminescence sum changes along the vertical from top to bottom of the frame in the SPE file\n",
    "#plt.plot(peaks, peak_lum, \"r*\")\n",
    "plt.plot(troughs, troughs_lum, \"r*\") #plot troughs\n",
    "plt.show()\n",
    "for i in range(len(troughs)):\n",
    "    troughs.append(troughs[i])\n",
    "print(troughs)\n"
   ]
  },
  {
   "cell_type": "code",
   "execution_count": null,
   "metadata": {},
   "outputs": [],
   "source": [
    "arrays = []\n",
    "left_x = 100\n",
    "right_x = 1000# depending on how far your Neurospora grew, you can also write an array of rigth bounds for every single tube\n",
    "#select the rightmost bound\n",
    "arrays_to_detrend = []\n",
    "for j in range(20):\n",
    "    lum_array = []\n",
    "    increment = (right_x - left_x)//(len(frames_dfs))\n",
    "    for i in range(len(frames_dfs)):\n",
    "        df = frames_dfs[i]\n",
    "        #sum = df.iloc[troughs_og[j]:troughs_og[j+1], left_x:(left_x + (i+1)*increment)].sum().sum()# #This is code for incremental pushing of bounds to the left; works when \n",
    "        #when there is right bound set for every race tube\n",
    "        sum = df.iloc[troughs[j+2]:troughs[j+3], left_x:right_x].sum().sum()\n",
    "        #sum = df.iloc[troughs_og[j+2]:troughs_og[j+3], left_x:right_x[i]].sum().sum() - #code for when there is a different right bound set for every race tube\n",
    "        background = df.iloc[0:50, 100:900].sum().sum() #select bounds for background from the image in the WinView software\n",
    "        sum_to_append = sum - background\n",
    "        lum_array.append(sum_to_append)\n",
    "    arrays_to_detrend.append(lum_array)\n",
    "\n",
    "print(len(arrays_to_detrend)) \n",
    "\n",
    "\n"
   ]
  },
  {
   "cell_type": "code",
   "execution_count": null,
   "metadata": {},
   "outputs": [],
   "source": [
    "import numpy as np\n",
    "import matplotlib.pyplot as plt\n",
    "\n",
    "vertical_lines_coordinates = []\n",
    "hours = len(frames_dfs)\n",
    "days = hours//22\n",
    "for i in range(7):\n",
    "    vertical_lines_coordinates.append(i*22)\n",
    "print(vertical_lines_coordinates)\n",
    "detrended_ = []\n",
    "for i in range(len(arrays_to_detrend)):\n",
    "    print(i+1)\n",
    "    x = np.arange(len(arrays_to_detrend[i]))\n",
    "    y = arrays_to_detrend[i]\n",
    "    y = y\n",
    "#plot to show raw luminescence\n",
    "    plt.plot(x, y)\n",
    "    plt.show()\n",
    "\n",
    "#linear regression to find the trend\n",
    "    model = np.polyfit(x, y, 3)\n",
    "    predicted = np.polyval(model, x)\n",
    "    \n",
    "    \n",
    "\n",
    "#plot to show the trend\n",
    "    plt.plot(x, y)\n",
    "    plt.plot(x, predicted, 'k-')\n",
    "    plt.show()\n",
    "#plot to show the detrended luminescence signal\n",
    "    plt.plot(x, y - predicted)\n",
    "    plt.vlines(x = vertical_lines_coordinates, ymin = min(y - predicted), ymax = max(y - predicted), colors = 'black', linestyles='dotted')\n",
    "    plt.show()\n",
    "   "
   ]
  }
 ],
 "metadata": {
  "kernelspec": {
   "display_name": "Python 3",
   "language": "python",
   "name": "python3"
  },
  "language_info": {
   "codemirror_mode": {
    "name": "ipython",
    "version": 3
   },
   "file_extension": ".py",
   "mimetype": "text/x-python",
   "name": "python",
   "nbconvert_exporter": "python",
   "pygments_lexer": "ipython3",
   "version": "3.11.1"
  }
 },
 "nbformat": 4,
 "nbformat_minor": 2
}
